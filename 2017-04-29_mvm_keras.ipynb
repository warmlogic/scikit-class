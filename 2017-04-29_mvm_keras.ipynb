{
 "cells": [
  {
   "cell_type": "code",
   "execution_count": 1,
   "metadata": {
    "collapsed": true
   },
   "outputs": [],
   "source": [
    "%matplotlib inline\n",
    "%config InlineBackend.figure_format='retina'\n",
    "%load_ext autoreload\n",
    "# \"1\" means: always reload modules marked with \"%aimport\"\n",
    "# \"2\" means: always reload all modules except those marked with \"%aimport\"\n",
    "%autoreload 1\n",
    "\n",
    "# from __future__ import absolute_import, division, print_function\n",
    "import os\n",
    "import sys\n",
    "\n",
    "import matplotlib.pyplot as plt\n",
    "# import matplotlib as mpl\n",
    "# from matplotlib.pyplot import GridSpec\n",
    "\n",
    "import numpy as np\n",
    "import pandas as pd\n",
    "import seaborn as sns\n",
    "\n",
    "from tqdm import tqdm\n",
    "import warnings\n",
    "\n",
    "# sns.set_context(\"poster\", font_scale=1.3)\n",
    "# sns.set_context(\"notebook\", font_scale=1.0)\n",
    "\n",
    "# pd.set_option('display.max_columns', 100)\n",
    "# pd.set_option('display.max_rows', 100)"
   ]
  },
  {
   "cell_type": "code",
   "execution_count": 1,
   "metadata": {},
   "outputs": [],
   "source": [
    "# Example for adding path\n",
    "# write code in ../src and add that to runtime path\n",
    "# src_dir = os.path.join(os.getcwd(), os.pardir, 'src')\n",
    "# sys.path.append(src_dir)\n",
    "\n",
    "# Import like so\n",
    "# # import my_module from the source directory\n",
    "# %aimport my_module\n",
    "# from my_module.build_features import remove_invalid_data"
   ]
  },
  {
   "cell_type": "code",
   "execution_count": 2,
   "metadata": {},
   "outputs": [
    {
     "name": "stderr",
     "output_type": "stream",
     "text": [
      "Using TensorFlow backend.\n"
     ]
    }
   ],
   "source": [
    "from keras.datasets import mnist\n",
    "from keras.models import Sequential\n",
    "from keras.layers import Dense\n",
    "from keras.layers import Flatten\n",
    "\n",
    "from keras.layers import Dropout\n",
    "from keras.utils import np_utils"
   ]
  },
  {
   "cell_type": "code",
   "execution_count": 12,
   "metadata": {},
   "outputs": [
    {
     "name": "stdout",
     "output_type": "stream",
     "text": [
      "28 28\n"
     ]
    }
   ],
   "source": [
    "# load data\n",
    "(X_train, y_train), (X_test, y_test) = mnist.load_data()\n",
    "img_width = X_train.shape[1]\n",
    "img_height = X_train.shape[2]\n",
    "\n",
    "print(img_width, img_height)"
   ]
  },
  {
   "cell_type": "code",
   "execution_count": 4,
   "metadata": {},
   "outputs": [
    {
     "name": "stdout",
     "output_type": "stream",
     "text": [
      "[[ 0.  0.  0. ...,  0.  0.  0.]\n",
      " [ 1.  0.  0. ...,  0.  0.  0.]\n",
      " [ 0.  0.  0. ...,  0.  0.  0.]\n",
      " ..., \n",
      " [ 0.  0.  0. ...,  0.  0.  0.]\n",
      " [ 0.  0.  0. ...,  0.  0.  0.]\n",
      " [ 0.  0.  0. ...,  0.  1.  0.]]\n"
     ]
    }
   ],
   "source": [
    "# one hot encode outputs\n",
    "y_train = np_utils.to_categorical(y_train)\n",
    "num_classes = y_train.shape[1]\n",
    "\n",
    "print(y_train)\n",
    "\n",
    "y_test = np_utils.to_categorical(y_test)"
   ]
  },
  {
   "cell_type": "code",
   "execution_count": 19,
   "metadata": {
    "collapsed": true
   },
   "outputs": [],
   "source": [
    "X_train = X_train.astype('float32')\n",
    "X_train /= 255.\n",
    "\n",
    "X_test = X_test.astype('float32')\n",
    "X_test /= 255."
   ]
  },
  {
   "cell_type": "code",
   "execution_count": 29,
   "metadata": {},
   "outputs": [],
   "source": [
    "# create model\n",
    "model=Sequential()\n",
    "model.add(Flatten(input_shape=(img_width,img_height)))\n",
    "model.add(Dense(num_classes, activation='softmax'))\n",
    "model.compile(loss='categorical_crossentropy', optimizer='adam', metrics=['accuracy'])\n",
    "\n",
    "# categorical xentropy: more credit the more confident you are about the answer\n",
    "# if one unit has a high weight and the others have low weights, loss will be small"
   ]
  },
  {
   "cell_type": "code",
   "execution_count": 28,
   "metadata": {},
   "outputs": [],
   "source": [
    "# # Fit the model\n",
    "# model.fit(X_train, y_train)"
   ]
  },
  {
   "cell_type": "code",
   "execution_count": 30,
   "metadata": {},
   "outputs": [
    {
     "name": "stdout",
     "output_type": "stream",
     "text": [
      "Train on 60000 samples, validate on 10000 samples\n",
      "Epoch 1/10\n",
      "60000/60000 [==============================] - 3s - loss: 0.4671 - acc: 0.8780 - val_loss: 0.3061 - val_acc: 0.9155\n",
      "Epoch 2/10\n",
      "60000/60000 [==============================] - 3s - loss: 0.3035 - acc: 0.9148 - val_loss: 0.2827 - val_acc: 0.9214\n",
      "Epoch 3/10\n",
      "60000/60000 [==============================] - 3s - loss: 0.2833 - acc: 0.9209 - val_loss: 0.2750 - val_acc: 0.9243\n",
      "Epoch 4/10\n",
      "60000/60000 [==============================] - 3s - loss: 0.2728 - acc: 0.9239 - val_loss: 0.2691 - val_acc: 0.9243\n",
      "Epoch 5/10\n",
      "60000/60000 [==============================] - 3s - loss: 0.2665 - acc: 0.9252 - val_loss: 0.2718 - val_acc: 0.9229\n",
      "Epoch 6/10\n",
      "60000/60000 [==============================] - 3s - loss: 0.2616 - acc: 0.9274 - val_loss: 0.2651 - val_acc: 0.9266\n",
      "Epoch 7/10\n",
      "60000/60000 [==============================] - 3s - loss: 0.2583 - acc: 0.9285 - val_loss: 0.2617 - val_acc: 0.9272\n",
      "Epoch 8/10\n",
      "60000/60000 [==============================] - 3s - loss: 0.2548 - acc: 0.9291 - val_loss: 0.2668 - val_acc: 0.9244\n",
      "Epoch 9/10\n",
      "60000/60000 [==============================] - 3s - loss: 0.2522 - acc: 0.9306 - val_loss: 0.2666 - val_acc: 0.9266\n",
      "Epoch 10/10\n",
      "60000/60000 [==============================] - 3s - loss: 0.2505 - acc: 0.9315 - val_loss: 0.2665 - val_acc: 0.9267\n"
     ]
    },
    {
     "data": {
      "text/plain": [
       "<keras.callbacks.History at 0x132304dd8>"
      ]
     },
     "execution_count": 30,
     "metadata": {},
     "output_type": "execute_result"
    }
   ],
   "source": [
    "model.fit(X_train, y_train, validation_data=(X_test, y_test))"
   ]
  },
  {
   "cell_type": "code",
   "execution_count": 39,
   "metadata": {},
   "outputs": [
    {
     "name": "stdout",
     "output_type": "stream",
     "text": [
      "Train on 60000 samples, validate on 10000 samples\n",
      "Epoch 1/10\n",
      "60000/60000 [==============================] - 1s - loss: 0.6517 - acc: 0.8194 - val_loss: 0.3010 - val_acc: 0.9172\n",
      "Epoch 2/10\n",
      "60000/60000 [==============================] - 1s - loss: 0.3114 - acc: 0.9117 - val_loss: 0.2436 - val_acc: 0.9321\n",
      "Epoch 3/10\n",
      "60000/60000 [==============================] - 1s - loss: 0.2665 - acc: 0.9236 - val_loss: 0.2123 - val_acc: 0.9396\n",
      "Epoch 4/10\n",
      "60000/60000 [==============================] - 1s - loss: 0.2382 - acc: 0.9311 - val_loss: 0.1928 - val_acc: 0.9448\n",
      "Epoch 5/10\n",
      "60000/60000 [==============================] - 1s - loss: 0.2163 - acc: 0.9380 - val_loss: 0.1800 - val_acc: 0.9476\n",
      "Epoch 6/10\n",
      "60000/60000 [==============================] - 1s - loss: 0.2031 - acc: 0.9413 - val_loss: 0.1653 - val_acc: 0.9518\n",
      "Epoch 7/10\n",
      "60000/60000 [==============================] - 1s - loss: 0.1890 - acc: 0.9450 - val_loss: 0.1575 - val_acc: 0.9551\n",
      "Epoch 8/10\n",
      "60000/60000 [==============================] - 1s - loss: 0.1769 - acc: 0.9484 - val_loss: 0.1473 - val_acc: 0.9570\n",
      "Epoch 9/10\n",
      "60000/60000 [==============================] - 1s - loss: 0.1678 - acc: 0.9512 - val_loss: 0.1390 - val_acc: 0.9582\n",
      "Epoch 10/10\n",
      "60000/60000 [==============================] - 1s - loss: 0.1595 - acc: 0.9535 - val_loss: 0.1340 - val_acc: 0.9616\n"
     ]
    },
    {
     "data": {
      "text/plain": [
       "<keras.callbacks.History at 0x1355e9eb8>"
      ]
     },
     "execution_count": 39,
     "metadata": {},
     "output_type": "execute_result"
    }
   ],
   "source": [
    "# add a hidden layer\n",
    "\n",
    "# create model\n",
    "model=Sequential()\n",
    "model.add(Flatten(input_shape=(img_width,img_height)))\n",
    "model.add(Dropout(0.2))\n",
    "model.add(Dense(30, activation='relu'))\n",
    "model.add(Dense(num_classes, activation='softmax'))\n",
    "model.compile(loss='categorical_crossentropy', optimizer='adam', metrics=['accuracy'])\n",
    "\n",
    "# Fit the model\n",
    "model.fit(X_train, y_train, validation_data=(X_test, y_test), batch_size=200, )"
   ]
  },
  {
   "cell_type": "code",
   "execution_count": null,
   "metadata": {},
   "outputs": [],
   "source": []
  }
 ],
 "metadata": {
  "anaconda-cloud": {},
  "kernelspec": {
   "display_name": "Python 3",
   "language": "python",
   "name": "python3"
  },
  "language_info": {
   "codemirror_mode": {
    "name": "ipython",
    "version": 3
   },
   "file_extension": ".py",
   "mimetype": "text/x-python",
   "name": "python",
   "nbconvert_exporter": "python",
   "pygments_lexer": "ipython3",
   "version": "3.6.1"
  }
 },
 "nbformat": 4,
 "nbformat_minor": 1
}
