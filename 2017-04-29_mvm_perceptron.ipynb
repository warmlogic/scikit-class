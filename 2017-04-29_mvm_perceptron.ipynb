{
 "cells": [
  {
   "cell_type": "code",
   "execution_count": 1,
   "metadata": {
    "collapsed": true
   },
   "outputs": [],
   "source": [
    "%matplotlib inline\n",
    "%config InlineBackend.figure_format='retina'\n",
    "%load_ext autoreload\n",
    "# \"1\" means: always reload modules marked with \"%aimport\"\n",
    "# \"2\" means: always reload all modules except those marked with \"%aimport\"\n",
    "%autoreload 1\n",
    "\n",
    "# from __future__ import absolute_import, division, print_function\n",
    "import os\n",
    "import sys\n",
    "\n",
    "import matplotlib.pyplot as plt\n",
    "# import matplotlib as mpl\n",
    "# from matplotlib.pyplot import GridSpec\n",
    "\n",
    "import numpy as np\n",
    "import pandas as pd\n",
    "import seaborn as sns\n",
    "\n",
    "from tqdm import tqdm\n",
    "import warnings\n",
    "\n",
    "# sns.set_context(\"poster\", font_scale=1.3)\n",
    "# sns.set_context(\"notebook\", font_scale=1.0)\n",
    "\n",
    "# pd.set_option('display.max_columns', 100)\n",
    "# pd.set_option('display.max_rows', 100)"
   ]
  },
  {
   "cell_type": "code",
   "execution_count": 2,
   "metadata": {},
   "outputs": [],
   "source": [
    "# Example for adding path\n",
    "# write code in ../src and add that to runtime path\n",
    "# src_dir = os.path.join(os.getcwd(), os.pardir, 'src')\n",
    "# sys.path.append(src_dir)\n",
    "\n",
    "# Import like so\n",
    "# # import my_module from the source directory\n",
    "# %aimport my_module\n",
    "# from my_module.build_features import remove_invalid_data"
   ]
  },
  {
   "cell_type": "code",
   "execution_count": 3,
   "metadata": {},
   "outputs": [],
   "source": [
    "# # perceptron\n",
    "# df = pd.read_csv('tweets.csv')\n",
    "# target = df['is_there_an_emotion_directed_at_a_brand_or_product']\n",
    "# text = df['tweet_text']\n",
    "\n",
    "# fixed_text = text[pd.notnull(text)]\n",
    "# fixed_target = target[pd.notnull(text)]\n",
    "\n",
    "# from sklearn.feature_extraction.text import CountVectorizer\n",
    "# count_vect = CountVectorizer()\n",
    "# count_vect.fit(fixed_text)\n",
    "\n",
    "# counts = count_vect.transform(fixed_text)\n",
    "\n",
    "# from sklearn.linear_model import Perceptron\n",
    "\n",
    "# perceptron = Perceptron()\n",
    "\n",
    "# from sklearn.model_selection import cross_val_score\n",
    "\n",
    "# scores = cross_val_score(perceptron, counts, fixed_target, cv=10)\n",
    "# print(scores)\n",
    "# print(scores.mean())"
   ]
  },
  {
   "cell_type": "code",
   "execution_count": 4,
   "metadata": {},
   "outputs": [
    {
     "name": "stderr",
     "output_type": "stream",
     "text": [
      "Using TensorFlow backend.\n"
     ]
    }
   ],
   "source": [
    "from keras.datasets import mnist"
   ]
  },
  {
   "cell_type": "code",
   "execution_count": 17,
   "metadata": {},
   "outputs": [
    {
     "name": "stdout",
     "output_type": "stream",
     "text": [
      "(60000, 28, 28)\n",
      "(10000, 28, 28)\n"
     ]
    }
   ],
   "source": [
    "(X_train, y_train), (X_test, y_test) = mnist.load_data()\n",
    "print(X_train.shape)\n",
    "print(X_test.shape)"
   ]
  },
  {
   "cell_type": "code",
   "execution_count": 18,
   "metadata": {},
   "outputs": [
    {
     "name": "stdout",
     "output_type": "stream",
     "text": [
      "(28, 28)\n",
      "                            \n",
      "                            \n",
      "                            \n",
      "                            \n",
      "                            \n",
      "                    .X.     \n",
      "    ..              .X.     \n",
      "    .X             .XX.     \n",
      "    XX             .XX      \n",
      "    XX             XX.      \n",
      "   .XX             XX.      \n",
      "   .XX            .XX.      \n",
      "   XX.            XXX.      \n",
      "   XX.         ..XXX.       \n",
      "   XX.   ...XXXXXXXX.       \n",
      "   XXXXXXXXXXXX...XX        \n",
      "    .XXXXX..     .XX        \n",
      "                 XXX        \n",
      "                 XX.        \n",
      "                 XX.        \n",
      "                 XX.        \n",
      "                 XX.        \n",
      "                 XXX        \n",
      "                 XXX        \n",
      "                 .XX        \n",
      "                            \n",
      "                            \n",
      "                            \n",
      "\n",
      "Label:  4\n"
     ]
    }
   ],
   "source": [
    "idx = 2\n",
    "\n",
    "digit = X_train[idx]\n",
    "print(digit.shape)\n",
    "str = \"\"\n",
    "for i in range(digit.shape[0]):\n",
    "    for j in range(digit.shape[1]):\n",
    "        if digit[i][j] == 0:\n",
    "            str += \" \"\n",
    "        elif digit[i][j] < 128:\n",
    "            str += \".\"\n",
    "        else:\n",
    "            str += \"X\"\n",
    "    str += \"\\n\"\n",
    "\n",
    "print(str)\n",
    "print(\"Label: \", y_train[idx])"
   ]
  },
  {
   "cell_type": "code",
   "execution_count": 19,
   "metadata": {},
   "outputs": [
    {
     "name": "stdout",
     "output_type": "stream",
     "text": [
      "[ 0.88661339  0.87922705  0.84685886  0.87716667  0.87366667  0.8708118\n",
      "  0.87747958  0.84664111  0.73169918  0.89292862]\n",
      "0.85830929207\n"
     ]
    }
   ],
   "source": [
    "from keras.utils import np_utils\n",
    "\n",
    "X_train = [x.flatten() for x in X_train]\n",
    "\n",
    "from sklearn.linear_model import Perceptron\n",
    "\n",
    "perceptron = Perceptron()\n",
    "\n",
    "from sklearn.model_selection import cross_val_score\n",
    "\n",
    "scores = cross_val_score(perceptron, X_train, y_train, cv=10)\n",
    "print(scores)\n",
    "print(scores.mean())"
   ]
  },
  {
   "cell_type": "code",
   "execution_count": null,
   "metadata": {
    "collapsed": true
   },
   "outputs": [],
   "source": []
  }
 ],
 "metadata": {
  "anaconda-cloud": {},
  "kernelspec": {
   "display_name": "Python 3",
   "language": "python",
   "name": "python3"
  },
  "language_info": {
   "codemirror_mode": {
    "name": "ipython",
    "version": 3
   },
   "file_extension": ".py",
   "mimetype": "text/x-python",
   "name": "python",
   "nbconvert_exporter": "python",
   "pygments_lexer": "ipython3",
   "version": "3.6.1"
  }
 },
 "nbformat": 4,
 "nbformat_minor": 1
}
